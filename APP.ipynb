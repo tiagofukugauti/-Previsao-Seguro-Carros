{
 "cells": [
  {
   "cell_type": "code",
   "execution_count": null,
   "metadata": {},
   "outputs": [],
   "source": [
    "# Importando os pacotes \n",
    "import numpy as np\n",
    "import pandas as pd\n",
    "import matplotlib as mat\n",
    "import matplotlib.pyplot as plt\n",
    "import colorsys\n",
    "import seaborn as sns\n",
    "plt.style.use('seaborn-talk')\n",
    "import warnings\n",
    "warnings.filterwarnings(\"ignore\")\n",
    "%matplotlib inline"
   ]
  },
  {
   "cell_type": "code",
   "execution_count": null,
   "metadata": {},
   "outputs": [],
   "source": [
    "df5 = pd.read_csv('dataset_st.csv', sep = ',', encoding = 'utf-8')"
   ]
  },
  {
   "cell_type": "code",
   "execution_count": null,
   "metadata": {},
   "outputs": [],
   "source": [
    "df5.head(5)"
   ]
  },
  {
   "cell_type": "code",
   "execution_count": null,
   "metadata": {},
   "outputs": [],
   "source": [
    "unique_list = list(sorted(set(df5['Modelo_x'])))\n",
    "unique_list "
   ]
  },
  {
   "cell_type": "code",
   "execution_count": null,
   "metadata": {},
   "outputs": [],
   "source": [
    "# Produz a matriz com os novos dados de entrada para a previsão\n",
    "Modelo = 'RX 450'\n",
    "Ano = 2010\n",
    "Categoria = 'JEEP'\n",
    "Volume_Motor = 35\n",
    "Quilometragem = 186005\n",
    "Cilindros = 6\n",
    "Cor = 'PRATA'\n",
    "Airbag = 12"
   ]
  },
  {
   "cell_type": "code",
   "execution_count": null,
   "metadata": {},
   "outputs": [],
   "source": [
    "dados_usuario = {'Categoria': 'JEEP',\n",
    "\n",
    "\t\t\t\t'Modelo': 'RX 450',\n",
    "\n",
    "\t\t\t\t'Ano': 2010,\n",
    "\n",
    "\t\t\t\t'Volume do Motor': 35,\n",
    "\n",
    "\t\t\t\t'Quilometragem': 186005,\n",
    "\n",
    "\t\t\t\t'Cilindros': 6,\n",
    "\n",
    "\t\t\t\t'Cor': 'PRATA',\n",
    "\n",
    "\t\t\t\t'Airbag': 12,\n",
    "\n",
    "\t\t\t\t}\n",
    "\n",
    "variaveis = pd.DataFrame(dados_usuario, index=['>'])"
   ]
  },
  {
   "cell_type": "code",
   "execution_count": null,
   "metadata": {},
   "outputs": [],
   "source": [
    "variaveis.head()"
   ]
  },
  {
   "cell_type": "code",
   "execution_count": null,
   "metadata": {},
   "outputs": [],
   "source": [
    "\n",
    "for item in range(0,len(variaveis['Modelo']),1):\n",
    "   \n",
    "    if variaveis['Modelo'][item] == df5['Modelo_x'][item]:\n",
    "        variaveis['Modelo'][item]= df5['Modelo_y'][item]"
   ]
  },
  {
   "cell_type": "code",
   "execution_count": null,
   "metadata": {},
   "outputs": [],
   "source": [
    "for item in range(0,len(variaveis['Categoria']),1):\n",
    "   \n",
    "    if variaveis['Categoria'][item] == df5['Categoria_x'][item]:\n",
    "        variaveis['Categoria'][item]= df5['Categoria_y'][item]"
   ]
  },
  {
   "cell_type": "code",
   "execution_count": null,
   "metadata": {},
   "outputs": [],
   "source": [
    "for item in range(0,len(variaveis['Ano']),1):\n",
    "   \n",
    "    if variaveis['Ano'][item] == df5['Ano_x'][item]:\n",
    "        variaveis['Ano'][item]= df5['Ano_y'][item]"
   ]
  },
  {
   "cell_type": "code",
   "execution_count": null,
   "metadata": {},
   "outputs": [],
   "source": [
    "for item in range(0,len(variaveis['Cor']),1):\n",
    "   \n",
    "    if variaveis['Cor'][item] == df5['Cor_x'][item]:\n",
    "        variaveis['Cor'][item]= df5['Cor_y'][item]"
   ]
  },
  {
   "cell_type": "code",
   "execution_count": null,
   "metadata": {},
   "outputs": [],
   "source": [
    "variaveis.head()"
   ]
  },
  {
   "cell_type": "code",
   "execution_count": null,
   "metadata": {},
   "outputs": [],
   "source": [
    "Categoria2 = variaveis['Categoria']\n",
    "Modelo2 = variaveis['Modelo']\n",
    "Ano2 = variaveis['Ano']\n",
    "Volume_Motor2 = variaveis['Volume do Motor']\n",
    "Quilometragem2 = variaveis['Quilometragem']\n",
    "Cilindros2 = variaveis['Cilindros']\n",
    "Cor2 = variaveis['Cor']\n",
    "Airbag2 = variaveis['Airbag']\n",
    "\n",
    "# Lista com os valores das variáveis\n",
    "dados_novo_cliente = [Categoria2, Modelo2, Ano2, Volume_Motor2, Quilometragem2, Cilindros2, Cor2, Airbag2]\n",
    "\n",
    "# Reshape\n",
    "novo_cliente = np.array(dados_novo_cliente).reshape(1, -1)"
   ]
  },
  {
   "cell_type": "code",
   "execution_count": null,
   "metadata": {},
   "outputs": [],
   "source": [
    "novo_cliente"
   ]
  }
 ],
 "metadata": {
  "kernelspec": {
   "display_name": "Python 3",
   "language": "python",
   "name": "python3"
  },
  "language_info": {
   "codemirror_mode": {
    "name": "ipython",
    "version": 3
   },
   "file_extension": ".py",
   "mimetype": "text/x-python",
   "name": "python",
   "nbconvert_exporter": "python",
   "pygments_lexer": "ipython3",
   "version": "3.7.6"
  }
 },
 "nbformat": 4,
 "nbformat_minor": 4
}
