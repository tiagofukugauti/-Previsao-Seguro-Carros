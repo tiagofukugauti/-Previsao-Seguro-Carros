{
 "cells": [
  {
   "cell_type": "markdown",
   "metadata": {},
   "source": [
    "# ENGENHARIA DE ATRIBUTOS"
   ]
  },
  {
   "cell_type": "code",
   "execution_count": null,
   "metadata": {},
   "outputs": [],
   "source": [
    "# Importando os pacotes \n",
    "import numpy as np\n",
    "import pandas as pd\n",
    "import matplotlib as mat\n",
    "import matplotlib.pyplot as plt\n",
    "import colorsys\n",
    "import seaborn as sns\n",
    "plt.style.use('seaborn-talk')"
   ]
  },
  {
   "cell_type": "code",
   "execution_count": null,
   "metadata": {},
   "outputs": [],
   "source": [
    "# Carregando os dados\n",
    "df = pd.read_csv('dataset.csv', sep = ',', encoding = 'utf-8')"
   ]
  },
  {
   "cell_type": "code",
   "execution_count": null,
   "metadata": {},
   "outputs": [],
   "source": [
    "df.shape"
   ]
  },
  {
   "cell_type": "code",
   "execution_count": null,
   "metadata": {},
   "outputs": [],
   "source": [
    "# Variável 3 - Modelo\n",
    "modelo = df['Modelo'].value_counts().rename_axis('Modelo').reset_index(name = 'Total')\n",
    "modelo"
   ]
  },
  {
   "cell_type": "code",
   "execution_count": null,
   "metadata": {},
   "outputs": [],
   "source": [
    "modelo.loc[(modelo['Total']) <= 1]"
   ]
  },
  {
   "cell_type": "code",
   "execution_count": null,
   "metadata": {},
   "outputs": [],
   "source": [
    "df2 = df.copy()\n",
    "df2 = pd.merge(df2, modelo, on = 'Modelo')"
   ]
  },
  {
   "cell_type": "code",
   "execution_count": null,
   "metadata": {},
   "outputs": [],
   "source": [
    "df3 = df2.loc[(df2['Total']) <= 2]"
   ]
  },
  {
   "cell_type": "code",
   "execution_count": null,
   "metadata": {},
   "outputs": [],
   "source": [
    "df3['Preco_Seguro'].describe().round(2)"
   ]
  },
  {
   "cell_type": "code",
   "execution_count": null,
   "metadata": {},
   "outputs": [],
   "source": [
    "sns.set_theme(style = 'darkgrid', font='sans-serif', font_scale=1)\n",
    "plt.figure(figsize = (20, 10))\n",
    "fig1 = sns.boxplot(x = 'Preco_Seguro',  data = df3, color='lightblue', orient = 'v')\n",
    "plt.title(\"Boxplot Preço do Seguro\")"
   ]
  },
  {
   "cell_type": "code",
   "execution_count": null,
   "metadata": {},
   "outputs": [],
   "source": [
    "# Criando o encoder para variáveis categóricas\n",
    "from sklearn.preprocessing import LabelEncoder\n",
    "lb = LabelEncoder()\n",
    "\n",
    "# Aplica o encoder nas variáveis que estão com string\n",
    "df3['Fabricante'] = lb.fit_transform(df3['Fabricante'])\n",
    "df3['Modelo'] = lb.fit_transform(df3['Modelo'])\n",
    "df3['Categoria'] = lb.fit_transform(df3['Categoria'])\n",
    "df3['Interior_Couro'] = lb.fit_transform(df3['Interior_Couro'])\n",
    "df3['Tipo_Combustivel'] = lb.fit_transform(df3['Tipo_Combustivel'])\n",
    "df3['Cilindros'] = lb.fit_transform(df3['Cilindros'])\n",
    "df3['Tipo_Cambio'] = lb.fit_transform(df3['Tipo_Cambio'])\n",
    "df3['Tracao_Rodas'] = lb.fit_transform(df3['Tracao_Rodas'])\n",
    "df3['Portas'] = lb.fit_transform(df3['Portas'])\n",
    "df3['Rodas'] = lb.fit_transform(df3['Rodas'])\n",
    "df3['Cor'] = lb.fit_transform(df3['Cor'])\n",
    "df3['Airbag'] = lb.fit_transform(df3['Airbag'])\n",
    "df3['Ano'] = lb.fit_transform(df3['Ano'])\n",
    "\n",
    "# Remove valores missing eventualmente gerados\n",
    "df3.dropna(inplace = True)"
   ]
  },
  {
   "cell_type": "code",
   "execution_count": null,
   "metadata": {},
   "outputs": [],
   "source": [
    "df3.corr()[\"Preco_Seguro\"]"
   ]
  },
  {
   "cell_type": "code",
   "execution_count": null,
   "metadata": {},
   "outputs": [],
   "source": [
    "df5 = pd.read_csv('dataset_st.csv', sep = ',', encoding = 'utf-8')"
   ]
  },
  {
   "cell_type": "code",
   "execution_count": null,
   "metadata": {},
   "outputs": [],
   "source": [
    "df5.head(5)"
   ]
  },
  {
   "cell_type": "code",
   "execution_count": null,
   "metadata": {},
   "outputs": [],
   "source": [
    "unique_list = list(sorted(set(df5['Modelo_x'])))\n",
    "unique_list "
   ]
  },
  {
   "cell_type": "code",
   "execution_count": null,
   "metadata": {},
   "outputs": [],
   "source": [
    "# Produz a matriz com os novos dados de entrada para a previsão\n",
    "Modelo = 'RX 450'\n",
    "Ano = 2010\n",
    "Categoria = 'JEEP'\n",
    "Volume_Motor = 35\n",
    "Quilometragem = 186005\n",
    "Cilindros = 6\n",
    "Cor = 'PRATA'\n",
    "Airbag = 12"
   ]
  },
  {
   "cell_type": "code",
   "execution_count": null,
   "metadata": {},
   "outputs": [],
   "source": [
    "dados_usuario = {'Categoria': 'JEEP',\n",
    "\n",
    "\t\t\t\t'Modelo': 'RX 450',\n",
    "\n",
    "\t\t\t\t'Ano': 2010,\n",
    "\n",
    "\t\t\t\t'Volume do Motor': 35,\n",
    "\n",
    "\t\t\t\t'Quilometragem': 186005,\n",
    "\n",
    "\t\t\t\t'Cilindros': 6,\n",
    "\n",
    "\t\t\t\t'Cor': 'PRATA',\n",
    "\n",
    "\t\t\t\t'Airbag': 12,\n",
    "\n",
    "\t\t\t\t}\n",
    "\n",
    "variaveis = pd.DataFrame(dados_usuario, index=['>'])"
   ]
  },
  {
   "cell_type": "code",
   "execution_count": null,
   "metadata": {},
   "outputs": [],
   "source": [
    "variaveis.head()"
   ]
  },
  {
   "cell_type": "code",
   "execution_count": null,
   "metadata": {},
   "outputs": [],
   "source": [
    "for item in range(0,len(variaveis['Modelo']),1):\n",
    "   \n",
    "    if variaveis['Modelo'][item] == df5['Modelo_x'][item]:\n",
    "        variaveis['Modelo'][item]= df5['Modelo_y'][item]"
   ]
  },
  {
   "cell_type": "code",
   "execution_count": null,
   "metadata": {},
   "outputs": [],
   "source": [
    "for item in range(0,len(variaveis['Categoria']),1):\n",
    "   \n",
    "    if variaveis['Categoria'][item] == df5['Categoria_x'][item]:\n",
    "        variaveis['Categoria'][item]= df5['Categoria_y'][item]"
   ]
  },
  {
   "cell_type": "code",
   "execution_count": null,
   "metadata": {},
   "outputs": [],
   "source": [
    "for item in range(0,len(variaveis['Ano']),1):\n",
    "   \n",
    "    if variaveis['Ano'][item] == df5['Ano_x'][item]:\n",
    "        variaveis['Ano'][item]= df5['Ano_y'][item]"
   ]
  },
  {
   "cell_type": "code",
   "execution_count": null,
   "metadata": {},
   "outputs": [],
   "source": [
    "for item in range(0,len(variaveis['Cor']),1):\n",
    "   \n",
    "    if variaveis['Cor'][item] == df5['Cor_x'][item]:\n",
    "        variaveis['Cor'][item]= df5['Cor_y'][item]"
   ]
  },
  {
   "cell_type": "code",
   "execution_count": null,
   "metadata": {},
   "outputs": [],
   "source": [
    "variaveis.head()"
   ]
  },
  {
   "cell_type": "code",
   "execution_count": null,
   "metadata": {},
   "outputs": [],
   "source": [
    "Categoria2 = variaveis['Categoria']\n",
    "Modelo2 = variaveis['Modelo']\n",
    "Ano2 = variaveis['Ano']\n",
    "Volume_Motor2 = variaveis['Volume do Motor']\n",
    "Quilometragem2 = variaveis['Quilometragem']\n",
    "Cilindros2 = variaveis['Cilindros']\n",
    "Cor2 = variaveis['Cor']\n",
    "Airbag2 = variaveis['Airbag']\n",
    "\n",
    "# Lista com os valores das variáveis\n",
    "dados_novo_cliente = [Categoria2, Modelo2, Ano2, Volume_Motor2, Quilometragem2, Cilindros2, Cor2, Airbag2]\n",
    "\n",
    "# Reshape\n",
    "novo_cliente = np.array(dados_novo_cliente).reshape(1, -1)"
   ]
  },
  {
   "cell_type": "code",
   "execution_count": null,
   "metadata": {},
   "outputs": [],
   "source": [
    "novo_cliente"
   ]
  }
 ],
 "metadata": {
  "kernelspec": {
   "display_name": "Python 3",
   "language": "python",
   "name": "python3"
  },
  "language_info": {
   "codemirror_mode": {
    "name": "ipython",
    "version": 3
   },
   "file_extension": ".py",
   "mimetype": "text/x-python",
   "name": "python",
   "nbconvert_exporter": "python",
   "pygments_lexer": "ipython3",
   "version": "3.7.6"
  }
 },
 "nbformat": 4,
 "nbformat_minor": 4
}
