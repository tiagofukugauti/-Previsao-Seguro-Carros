{
 "cells": [
  {
   "cell_type": "markdown",
   "metadata": {},
   "source": [
    "# PROBLEMA DE NEGÓCIO: PREVER O PREÇO DE VEICULOS "
   ]
  },
  {
   "cell_type": "markdown",
   "metadata": {},
   "source": [
    "# INSTALAÇÃO E CARREGAMENTO DOS PACOTES"
   ]
  },
  {
   "cell_type": "code",
   "execution_count": null,
   "metadata": {},
   "outputs": [],
   "source": [
    "# Importando os pacotes \n",
    "import numpy as np\n",
    "import pandas as pd\n",
    "import matplotlib as mat\n",
    "import matplotlib.pyplot as plt\n",
    "import colorsys\n",
    "import seaborn as sns\n",
    "plt.style.use('seaborn-talk')\n",
    "import warnings\n",
    "warnings.filterwarnings(\"ignore\")\n",
    "%matplotlib inline"
   ]
  },
  {
   "cell_type": "code",
   "execution_count": null,
   "metadata": {},
   "outputs": [],
   "source": [
    "# Carregando os dados\n",
    "df = pd.read_csv('train.csv', sep = ',', encoding = 'utf-8')"
   ]
  },
  {
   "cell_type": "markdown",
   "metadata": {},
   "source": [
    "# ANÁLISE EXPLORATÓRIA, LIMPEZA E TRANFORMAÇÃO - PARTE 1"
   ]
  },
  {
   "cell_type": "code",
   "execution_count": null,
   "metadata": {},
   "outputs": [],
   "source": [
    "# Visualizando os dados\n",
    "df.head(5)"
   ]
  },
  {
   "cell_type": "code",
   "execution_count": null,
   "metadata": {},
   "outputs": [],
   "source": [
    "# Verificando o tipo dos dados\n",
    "df.dtypes"
   ]
  },
  {
   "cell_type": "code",
   "execution_count": null,
   "metadata": {},
   "outputs": [],
   "source": [
    "# Visualizando as dimensões\n",
    "df.shape"
   ]
  },
  {
   "cell_type": "code",
   "execution_count": null,
   "metadata": {},
   "outputs": [],
   "source": [
    "# Renomeando as colunas\n",
    "colunas = ['Id', 'Preco_Seguro', 'Levy', 'Fabricante', 'Modelo', 'Ano', 'Categoria', 'Interior_Couro', 'Tipo_Combustivel','Volume_Motor','Quilometragem', 'Cilindros', 'Tipo_Cambio', 'Tracao_Rodas', 'Portas', 'Rodas', 'Cor', 'Airbag']\n",
    "df.columns = colunas\n",
    "df.head()"
   ]
  },
  {
   "cell_type": "code",
   "execution_count": null,
   "metadata": {},
   "outputs": [],
   "source": [
    "# Criando uma cópia do dataframne e removendo a coluna Id\n",
    "df1 = df.copy()\n",
    "df1.drop(columns=[\"Id\", 'Levy'],inplace=True)"
   ]
  },
  {
   "cell_type": "code",
   "execution_count": null,
   "metadata": {},
   "outputs": [],
   "source": [
    "df1.head(5)"
   ]
  },
  {
   "cell_type": "code",
   "execution_count": null,
   "metadata": {},
   "outputs": [],
   "source": [
    "df1.dtypes"
   ]
  },
  {
   "cell_type": "code",
   "execution_count": null,
   "metadata": {},
   "outputs": [],
   "source": [
    "# Colocando as strings com letra em maíscula\n",
    "df1['Fabricante'] = df1['Fabricante'].str.upper()\n",
    "df1['Modelo'] = df1['Modelo'].str.upper()\n",
    "df1['Categoria'] = df1['Categoria'].str.upper()\n",
    "df1['Interior_Couro'] = df1['Interior_Couro'].str.upper()\n",
    "df1['Tipo_Combustivel'] = df1['Tipo_Combustivel'].str.upper()\n",
    "df1['Tipo_Cambio'] = df1['Tipo_Cambio'].str.upper()\n",
    "df1['Rodas'] = df1['Rodas'].str.upper()\n",
    "df1['Cor'] = df1['Cor'].str.upper()"
   ]
  },
  {
   "cell_type": "code",
   "execution_count": null,
   "metadata": {},
   "outputs": [],
   "source": [
    "# Removendo string na variável Quilometragem e trasnformando para inteiro\n",
    "df1['Quilometragem'] = df1['Quilometragem'].str.replace(r'\\D', '').astype(int)"
   ]
  },
  {
   "cell_type": "code",
   "execution_count": null,
   "metadata": {},
   "outputs": [],
   "source": [
    "# Removendo string na variável Portas e trasnformando para object\n",
    "df1['Portas'] = df1['Portas'].str.replace(r'\\D', '').astype(str)"
   ]
  },
  {
   "cell_type": "code",
   "execution_count": null,
   "metadata": {},
   "outputs": [],
   "source": [
    "# Removendo string na variável Volume_Motor e trasnformando para object\n",
    "df1['Volume_Motor'] = df1['Volume_Motor'].str.replace(r'\\D', '').astype(str)"
   ]
  },
  {
   "cell_type": "code",
   "execution_count": null,
   "metadata": {},
   "outputs": [],
   "source": [
    "# Transformando as variáveis Ano, Cilindros e Airbag para object\n",
    "df1['Ano'] = df1['Ano'].astype(str)\n",
    "df1['Cilindros'] = df1['Cilindros'].astype(str)\n",
    "df1['Airbag'] = df1['Airbag'].astype(str)"
   ]
  },
  {
   "cell_type": "code",
   "execution_count": null,
   "metadata": {},
   "outputs": [],
   "source": [
    "df1.head(5)"
   ]
  },
  {
   "cell_type": "code",
   "execution_count": null,
   "metadata": {},
   "outputs": [],
   "source": [
    "# Traduzindo palavras do imglês para português na variável Tipo_Combustivel\n",
    "for item in range(0,len(df1['Tipo_Combustivel']),1):\n",
    "   \n",
    "    if df1['Tipo_Combustivel'][item] == 'HYBRID':\n",
    "        df1['Tipo_Combustivel'][item]= 'HIBRIDO' \n",
    "    elif df1['Tipo_Combustivel'][item] == 'PETROL':\n",
    "        df1['Tipo_Combustivel'][item]= 'GASOLINA'\n",
    "    elif df1['Tipo_Combustivel'][item] == 'DIESEL':\n",
    "        df1['Tipo_Combustivel'][item]= 'DIESEL'\n",
    "    elif df1['Tipo_Combustivel'][item] == 'CNG':\n",
    "        df1['Tipo_Combustivel'][item]= 'CNG'\n",
    "    elif df1['Tipo_Combustivel'][item] == 'LPG':\n",
    "        df1['Tipo_Combustivel'][item]= 'LPG'\n",
    "    elif df1['Tipo_Combustivel'][item] == 'PLUG-IN HYBRID':\n",
    "        df1['Tipo_Combustivel'][item]= 'HIBRIDO'"
   ]
  },
  {
   "cell_type": "code",
   "execution_count": null,
   "metadata": {},
   "outputs": [],
   "source": [
    "# Traduzindo palavras do imglês para português na variável Interior_Couro\n",
    "for item in range(0,len(df1['Interior_Couro']),1):\n",
    "   \n",
    "    if df1['Interior_Couro'][item] == 'YES':\n",
    "        df1['Interior_Couro'][item]= 'SIM' \n",
    "    elif df1['Interior_Couro'][item] == 'NO':\n",
    "        df1['Interior_Couro'][item]= 'NÃO'"
   ]
  },
  {
   "cell_type": "code",
   "execution_count": null,
   "metadata": {},
   "outputs": [],
   "source": [
    "# Traduzindo palavras do imglês para português na variável Tipo_Cambio\n",
    "for item in range(0,len(df1['Tipo_Cambio']),1):\n",
    "   \n",
    "    if df1['Tipo_Cambio'][item] == 'AUTOMATIC':\n",
    "        df1['Tipo_Cambio'][item]= 'AUTOMATICO' \n",
    "    elif df1['Tipo_Cambio'][item] == 'MANUAL':\n",
    "        df1['Tipo_Cambio'][item]= 'MANUAL'\n",
    "    elif df1['Tipo_Cambio'][item] == 'TIPTRONIC':\n",
    "        df1['Tipo_Cambio'][item]= 'TIPTRONIC'\n",
    "    elif df1['Tipo_Cambio'][item] == 'VARIATOR':\n",
    "        df1['Tipo_Cambio'][item]= 'VARIADO'"
   ]
  },
  {
   "cell_type": "code",
   "execution_count": null,
   "metadata": {},
   "outputs": [],
   "source": [
    "# Traduzindo palavras do imglês para português na variável Tracao_Rodas\n",
    "for item in range(0,len(df1['Tracao_Rodas']),1):\n",
    "   \n",
    "    if df1['Tracao_Rodas'][item] == 'Front':\n",
    "        df1['Tracao_Rodas'][item]= 'FRENTE' \n",
    "    elif df1['Tracao_Rodas'][item] == 'Rear':\n",
    "        df1['Tracao_Rodas'][item]= 'TRASEIRA'\n",
    "    elif df1['Tracao_Rodas'][item] == '4x4':\n",
    "        df1['Tracao_Rodas'][item]= '4x4'"
   ]
  },
  {
   "cell_type": "code",
   "execution_count": null,
   "metadata": {},
   "outputs": [],
   "source": [
    "# Traduzindo palavras do imglês para português na variável Rodas\n",
    "for item in range(0,len(df1['Rodas']),1):\n",
    "   \n",
    "    if df1['Rodas'][item] == 'LEFT WHEEL':\n",
    "        df1['Rodas'][item]= 'ESQUERDA' \n",
    "    elif df1['Rodas'][item] == 'RIGHT-HAND DRIVE':\n",
    "        df1['Rodas'][item]= 'DIREITA'"
   ]
  },
  {
   "cell_type": "code",
   "execution_count": null,
   "metadata": {},
   "outputs": [],
   "source": [
    "# Traduzindo palavras do imglês para português na variável Cor\n",
    "for item in range(0,len(df1['Cor']),1):\n",
    "   \n",
    "    if df1['Cor'][item] == 'BLACK':\n",
    "        df1['Cor'][item]= 'PRETO' \n",
    "    elif df1['Cor'][item] == 'WHITE':\n",
    "        df1['Cor'][item]= 'BRANCO'\n",
    "    elif df1['Cor'][item] == 'SILVER':\n",
    "        df1['Cor'][item]= 'PRATA'\n",
    "    elif df1['Cor'][item] == 'GREY':\n",
    "        df1['Cor'][item]= 'CINZA'\n",
    "    elif df1['Cor'][item] == 'BLUE':\n",
    "        df1['Cor'][item]= 'AZUL'\n",
    "    elif df1['Cor'][item] == 'RED':\n",
    "        df1['Cor'][item]= 'VERMELHO'\n",
    "    elif df1['Cor'][item] == 'GREEN':\n",
    "        df1['Cor'][item]= 'VERDE'\n",
    "    elif df1['Cor'][item] == 'ORANGE':\n",
    "        df1['Cor'][item]= 'LARANJA'\n",
    "    elif df1['Cor'][item] == 'BROWN':\n",
    "        df1['Cor'][item]= 'MARROM'\n",
    "    elif df1['Cor'][item] == 'CARNELIAN RED':\n",
    "        df1['Cor'][item]= 'VERMELHO ESCURO'\n",
    "    elif df1['Cor'][item] == 'GOLDEN':\n",
    "        df1['Cor'][item]= 'DOURADO'\n",
    "    elif df1['Cor'][item] == 'BEIGE':\n",
    "        df1['Cor'][item]= 'BEGE'\n",
    "    elif df1['Cor'][item] == 'SKY BLUE':\n",
    "        df1['Cor'][item]= 'AZUL CLARO'\n",
    "    elif df1['Cor'][item] == 'YELLOW':\n",
    "        df1['Cor'][item]= 'AMARELO'\n",
    "    elif df1['Cor'][item] == 'PURPLE':\n",
    "        df1['Cor'][item]= 'ROXO'\n",
    "    elif df1['Cor'][item] == 'PINK':\n",
    "        df1['Cor'][item]= 'ROSA'"
   ]
  },
  {
   "cell_type": "code",
   "execution_count": null,
   "metadata": {},
   "outputs": [],
   "source": [
    "# Removendo a única observação contendo Tipo_Combustivel Hydrogen\n",
    "df1_idx= df1[df1[\"Tipo_Combustivel\"]=='HYDROGEN'].index\n",
    "df1= df1.drop(df1_idx)"
   ]
  },
  {
   "cell_type": "code",
   "execution_count": null,
   "metadata": {},
   "outputs": [],
   "source": [
    "# Removendo as observações contendo Preco_Seguro\n",
    "df1_idx2= df1[df1[\"Preco_Seguro\"]>=500000].index\n",
    "df1= df1.drop(df1_idx2)\n",
    "df1_idx3= df1[df1[\"Preco_Seguro\"]<=1000].index\n",
    "df1= df1.drop(df1_idx3)"
   ]
  },
  {
   "cell_type": "code",
   "execution_count": null,
   "metadata": {},
   "outputs": [],
   "source": [
    "# Removendo as observações contendo Quilometragem\n",
    "df1_idx4= df1[df1[\"Quilometragem\"]>=700000].index\n",
    "df1= df1.drop(df1_idx4)"
   ]
  },
  {
   "cell_type": "code",
   "execution_count": null,
   "metadata": {},
   "outputs": [],
   "source": [
    "df1.head(5)"
   ]
  },
  {
   "cell_type": "code",
   "execution_count": null,
   "metadata": {},
   "outputs": [],
   "source": [
    "# Gravando o dataframe após as transformações iniciais\n",
    "df1.to_csv('dataset.csv', encoding='utf-8', index=False)"
   ]
  },
  {
   "cell_type": "markdown",
   "metadata": {},
   "source": [
    "# ANÁLISE EXPLORATÓRIA, LIMPEZA E TRANFORMAÇÃO - PARTE 2"
   ]
  },
  {
   "cell_type": "code",
   "execution_count": null,
   "metadata": {},
   "outputs": [],
   "source": [
    "# Importando os pacotes \n",
    "import numpy as np\n",
    "import pandas as pd\n",
    "import matplotlib as mat\n",
    "import matplotlib.pyplot as plt\n",
    "import colorsys\n",
    "import seaborn as sns\n",
    "plt.style.use('seaborn-talk')\n",
    "import warnings\n",
    "warnings.filterwarnings(\"ignore\")\n",
    "%matplotlib inline"
   ]
  },
  {
   "cell_type": "code",
   "execution_count": null,
   "metadata": {},
   "outputs": [],
   "source": [
    "# Carregando os dados\n",
    "df = pd.read_csv('dataset.csv', sep = ',', encoding = 'utf-8')"
   ]
  },
  {
   "cell_type": "code",
   "execution_count": null,
   "metadata": {},
   "outputs": [],
   "source": [
    "df.dtypes"
   ]
  },
  {
   "cell_type": "code",
   "execution_count": null,
   "metadata": {},
   "outputs": [],
   "source": [
    "df.shape"
   ]
  },
  {
   "cell_type": "code",
   "execution_count": null,
   "metadata": {},
   "outputs": [],
   "source": [
    "# Transformando as variáveis Ano, Cilindros, Volume_Motor e Airbag para object\n",
    "df['Ano'] = df['Ano'].astype(str)\n",
    "df['Cilindros'] = df['Cilindros'].astype(str)\n",
    "df['Airbag'] = df['Airbag'].astype(str)\n",
    "df['Portas'] = df['Portas'].astype(str)\n",
    "df['Volume_Motor'] = df['Volume_Motor'].astype(str)"
   ]
  },
  {
   "cell_type": "code",
   "execution_count": null,
   "metadata": {},
   "outputs": [],
   "source": [
    "# Criando uma cópia do dataframne\n",
    "df1 = df.copy()"
   ]
  },
  {
   "cell_type": "code",
   "execution_count": null,
   "metadata": {},
   "outputs": [],
   "source": [
    "# Resumo\n",
    "print(\"Linhas: \", df1.shape[0])\n",
    "print(\"Colunas: \", df1.shape[1])\n",
    "print(\"\\nVariáveis: \\n\", df1.columns.tolist())\n",
    "print(\"\\nValores Ausentes: \\n\" , df1.isnull().sum())\n",
    "print(\"\\nValores Únicos: \\n\", df1.nunique())"
   ]
  },
  {
   "cell_type": "code",
   "execution_count": null,
   "metadata": {},
   "outputs": [],
   "source": [
    "# Colunas numéricas (quantitativas)\n",
    "colunas_numericas = ['Preco_Seguro', 'Quilometragem']"
   ]
  },
  {
   "cell_type": "code",
   "execution_count": null,
   "metadata": {},
   "outputs": [],
   "source": [
    "# Colunas categóricas\n",
    "colunas_categoricas = ['Fabricante', 'Modelo', 'Ano', 'Categoria', 'Interior_Couro', 'Tipo_Combustivel', 'Volume_Motor', 'Cilindros', 'Tipo_Cambio', 'Tracao_Rodas', 'Portas', 'Rodas', 'Cor', 'Airbag']"
   ]
  },
  {
   "cell_type": "code",
   "execution_count": null,
   "metadata": {},
   "outputs": [],
   "source": [
    "# Verifica se o total de variáveis está coberto nos objetos anteriores\n",
    "len(colunas_numericas) + len(colunas_categoricas) == 16"
   ]
  },
  {
   "cell_type": "code",
   "execution_count": null,
   "metadata": {},
   "outputs": [],
   "source": [
    "# Dataframes com os tipos diferentes de variáveis\n",
    "df_num = df1[colunas_numericas]\n",
    "df_cat = df1[colunas_categoricas]"
   ]
  },
  {
   "cell_type": "code",
   "execution_count": null,
   "metadata": {},
   "outputs": [],
   "source": [
    "# Sumário estatístico das variáveis numéricas\n",
    "sumario_num = pd.DataFrame(index = df_num.columns)\n",
    "sumario_num['Tipo de Dado'] = df_num.dtypes.values\n",
    "sumario_num['Registros Não Nulos'] = df_num.count().values\n",
    "sumario_num['Registros Não Zero'] = df_num.astype(bool).sum(axis = 0)\n",
    "sumario_num['% Populado'] = round(sumario_num['Registros Não Nulos'] / df_num.shape[0]*100,2)\n",
    "sumario_num['Valores Únicos'] = df_num.nunique().values\n",
    "sumario_num['Mean'] = round(df_num.mean(),2)\n",
    "sumario_num['Std'] = round(df_num.std(),2)\n",
    "sumario_num['Min'] = round(df_num.min(),2)\n",
    "sumario_num['Max'] = round(df_num.max(),2)\n",
    "sumario_num"
   ]
  },
  {
   "cell_type": "code",
   "execution_count": null,
   "metadata": {},
   "outputs": [],
   "source": [
    "# Sumário estatístico das variáveis categóricas\n",
    "sumario_cat = pd.DataFrame(index = df_cat.columns)\n",
    "sumario_cat['Tipo de Dado'] = df_cat.dtypes.values\n",
    "sumario_cat['Registros Não Nulos'] = df_cat.count().values\n",
    "sumario_cat['% Populado'] = round(sumario_cat['Registros Não Nulos'] / df_cat.shape[0]*100,2)\n",
    "sumario_cat['# Valores Únicos'] = df_cat.nunique().values\n",
    "\n",
    "# Adiciona mais uma coluna com valores mais comuns\n",
    "temp = []\n",
    "for coluna in colunas_categoricas:\n",
    "    temp.append(df_cat[coluna].value_counts().idxmax())\n",
    "sumario_cat['Valores Mais Comuns'] = temp\n",
    "sumario_cat"
   ]
  },
  {
   "cell_type": "markdown",
   "metadata": {},
   "source": [
    "# VISUALIZAÇÃO DAS VARIÁVEIS"
   ]
  },
  {
   "cell_type": "code",
   "execution_count": null,
   "metadata": {},
   "outputs": [],
   "source": [
    "# Variável 1 - Preco_Convenio\n",
    "df1['Preco_Seguro'].describe().round(2)"
   ]
  },
  {
   "cell_type": "code",
   "execution_count": null,
   "metadata": {},
   "outputs": [],
   "source": [
    "sns.set_theme(style = 'darkgrid', font='sans-serif', font_scale=1)\n",
    "plt.figure(figsize = (20, 10))\n",
    "fig1 = sns.boxplot(x = 'Preco_Seguro',  data = df1, color='lightblue', orient = 'v')\n",
    "plt.title(\"Boxplot Preço do Seguro\")"
   ]
  },
  {
   "cell_type": "code",
   "execution_count": null,
   "metadata": {},
   "outputs": [],
   "source": [
    "sns.set_theme(style = 'darkgrid', font='sans-serif', font_scale=1)\n",
    "plt.figure(figsize = (20, 10))\n",
    "fig2 = sns.histplot(df1, x = 'Preco_Seguro', color= 'blue', kde = True, bins = 20)\n",
    "plt.title(\"Histograma Preço do Seguro\")"
   ]
  },
  {
   "cell_type": "code",
   "execution_count": null,
   "metadata": {},
   "outputs": [],
   "source": [
    "# Variável 2 - Fabricante\n",
    "fabricante = df1['Fabricante'].value_counts().rename_axis('Fabricante').reset_index(name = 'Total')\n",
    "fabricante"
   ]
  },
  {
   "cell_type": "code",
   "execution_count": null,
   "metadata": {},
   "outputs": [],
   "source": [
    "sns.set_theme(style = 'darkgrid', font='sans-serif', font_scale=1)\n",
    "plt.figure(figsize = (20, 10))\n",
    "fig3 = sns.countplot(x = 'Fabricante', data = df1, orient = 'v', color= 'blue')\n",
    "plt.title(\"Fabricante\")"
   ]
  },
  {
   "cell_type": "code",
   "execution_count": null,
   "metadata": {},
   "outputs": [],
   "source": [
    "# Variável 3 - Modelo\n",
    "modelo = df1['Modelo'].value_counts().rename_axis('Modelo').reset_index(name = 'Total')\n",
    "modelo"
   ]
  },
  {
   "cell_type": "code",
   "execution_count": null,
   "metadata": {},
   "outputs": [],
   "source": [
    "sns.set_theme(style = 'darkgrid', font='sans-serif', font_scale=1)\n",
    "plt.figure(figsize = (20, 10))\n",
    "fig4 = sns.countplot(x = 'Modelo', data = df1, orient = 'v', color= 'blue')\n",
    "plt.title(\"Modelo\")"
   ]
  },
  {
   "cell_type": "code",
   "execution_count": null,
   "metadata": {},
   "outputs": [],
   "source": [
    "# Variável 4 - Ano\n",
    "ano = df['Ano'].value_counts().rename_axis('Ano').reset_index(name = 'Total')\n",
    "ano"
   ]
  },
  {
   "cell_type": "code",
   "execution_count": null,
   "metadata": {},
   "outputs": [],
   "source": [
    "sns.set_theme(style = 'darkgrid', font='sans-serif', font_scale=1)\n",
    "plt.figure(figsize = (30, 10))\n",
    "fig5 = sns.countplot(x = 'Ano', data = df1, orient = 'v', color= 'blue')\n",
    "plt.title(\"Ano\")"
   ]
  },
  {
   "cell_type": "code",
   "execution_count": null,
   "metadata": {},
   "outputs": [],
   "source": [
    "# Variável 5 - Categoria\n",
    "categoria = df1['Categoria'].value_counts().rename_axis('Categoria').reset_index(name = 'Total')\n",
    "categoria"
   ]
  },
  {
   "cell_type": "code",
   "execution_count": null,
   "metadata": {},
   "outputs": [],
   "source": [
    "sns.set_theme(style = 'darkgrid', font='sans-serif', font_scale=2)\n",
    "plt.figure(figsize = (30, 10))\n",
    "fig6 = sns.countplot(x = 'Categoria', data = df1, orient = 'v', color= 'blue')\n",
    "plt.title(\"Categoria\")"
   ]
  },
  {
   "cell_type": "code",
   "execution_count": null,
   "metadata": {},
   "outputs": [],
   "source": [
    "# Variável 6 - Interior_Couro\n",
    "interior_couro = df1['Interior_Couro'].value_counts().rename_axis('Interior_Couro').reset_index(name = 'Total')\n",
    "interior_couro"
   ]
  },
  {
   "cell_type": "code",
   "execution_count": null,
   "metadata": {},
   "outputs": [],
   "source": [
    "sns.set_theme(style = 'darkgrid', font='sans-serif', font_scale=1)\n",
    "plt.figure(figsize = (10, 6))\n",
    "fig7 = sns.countplot(x = 'Interior_Couro', data = df1, orient = 'v')\n",
    "plt.title(\"Interior_Couro\")"
   ]
  },
  {
   "cell_type": "code",
   "execution_count": null,
   "metadata": {},
   "outputs": [],
   "source": [
    "# Variável 7 - Tipo_Combustivel\n",
    "tipo_combustivel = df1['Tipo_Combustivel'].value_counts().rename_axis('Tipo_Combustivel').reset_index(name = 'Total')\n",
    "tipo_combustivel"
   ]
  },
  {
   "cell_type": "code",
   "execution_count": null,
   "metadata": {},
   "outputs": [],
   "source": [
    "sns.set_theme(style = 'darkgrid', font='sans-serif', font_scale=1)\n",
    "plt.figure(figsize = (10, 6))\n",
    "fig8 = sns.countplot(x = 'Tipo_Combustivel', data = df1, orient = 'v')\n",
    "plt.title(\"Tipo_Combustivel\")"
   ]
  },
  {
   "cell_type": "code",
   "execution_count": null,
   "metadata": {},
   "outputs": [],
   "source": [
    "# Variável 8 - Volume_Motor\n",
    "volume_motor = df1['Volume_Motor'].value_counts().rename_axis('Volume_Motor').reset_index(name = 'Total')\n",
    "volume_motor"
   ]
  },
  {
   "cell_type": "code",
   "execution_count": null,
   "metadata": {},
   "outputs": [],
   "source": [
    "sns.set_theme(style = 'darkgrid', font='sans-serif', font_scale=1)\n",
    "plt.figure(figsize = (20, 10))\n",
    "fig9 = sns.countplot(x = 'Volume_Motor', data = df1, orient = 'v', color = 'blue')\n",
    "plt.title(\"Volume_Motor\")"
   ]
  },
  {
   "cell_type": "code",
   "execution_count": null,
   "metadata": {},
   "outputs": [],
   "source": [
    "# Variável 9 - Quilometragem\n",
    "df1['Quilometragem'].describe().round(2)"
   ]
  },
  {
   "cell_type": "code",
   "execution_count": null,
   "metadata": {},
   "outputs": [],
   "source": [
    "sns.set_theme(style = 'darkgrid', font='sans-serif', font_scale=1)\n",
    "plt.figure(figsize = (20, 10))\n",
    "fig10 = sns.boxplot(x = 'Quilometragem',  data = df1, color='lightblue', orient = 'v')\n",
    "plt.title(\"Quilometragem\")"
   ]
  },
  {
   "cell_type": "code",
   "execution_count": null,
   "metadata": {},
   "outputs": [],
   "source": [
    "sns.set_theme(style = 'darkgrid', font='sans-serif', font_scale=1)\n",
    "plt.figure(figsize = (20, 10))\n",
    "fig11 = sns.histplot(df1, x = 'Quilometragem', color= 'blue', kde = True, bins = 20)\n",
    "plt.title(\"Quilometragem\")"
   ]
  },
  {
   "cell_type": "code",
   "execution_count": null,
   "metadata": {},
   "outputs": [],
   "source": [
    "# Variável 10 - Cilindros\n",
    "cilindros = df1['Cilindros'].value_counts().rename_axis('Cilindros').reset_index(name = 'Total')\n",
    "cilindros"
   ]
  },
  {
   "cell_type": "code",
   "execution_count": null,
   "metadata": {},
   "outputs": [],
   "source": [
    "sns.set_theme(style = 'darkgrid', font='sans-serif', font_scale=1)\n",
    "plt.figure(figsize = (20, 10))\n",
    "fig12 = sns.countplot(x = 'Cilindros', data = df1, orient = 'v', color = 'blue')\n",
    "plt.title(\"Cilindros\")"
   ]
  },
  {
   "cell_type": "code",
   "execution_count": null,
   "metadata": {},
   "outputs": [],
   "source": [
    "# Variável 11 - Tipo_Cambio\n",
    "tipo_cambio = df1['Tipo_Cambio'].value_counts().rename_axis('Tipo_Cambio').reset_index(name = 'Total')\n",
    "tipo_cambio"
   ]
  },
  {
   "cell_type": "code",
   "execution_count": null,
   "metadata": {},
   "outputs": [],
   "source": [
    "sns.set_theme(style = 'darkgrid', font='sans-serif', font_scale=1)\n",
    "plt.figure(figsize = (12, 8))\n",
    "fig13 = sns.countplot(x = 'Tipo_Cambio', data = df1, orient = 'v')\n",
    "plt.title(\"Tipo_Cambio\")"
   ]
  },
  {
   "cell_type": "code",
   "execution_count": null,
   "metadata": {},
   "outputs": [],
   "source": [
    "# Variável 12 - Tracao_Rodas\n",
    "tracao_rodas = df1['Tracao_Rodas'].value_counts().rename_axis('Tracao_Rodas').reset_index(name = 'Total')\n",
    "tracao_rodas"
   ]
  },
  {
   "cell_type": "code",
   "execution_count": null,
   "metadata": {},
   "outputs": [],
   "source": [
    "sns.set_theme(style = 'darkgrid', font='sans-serif', font_scale=1)\n",
    "plt.figure(figsize = (12, 8))\n",
    "fig14 = sns.countplot(x = 'Tracao_Rodas', data = df1, orient = 'v')\n",
    "plt.title(\"Tracao_Rodas\")"
   ]
  },
  {
   "cell_type": "code",
   "execution_count": null,
   "metadata": {},
   "outputs": [],
   "source": [
    "# Variável 13 - Portas\n",
    "portas = df1['Portas'].value_counts().rename_axis('Portas').reset_index(name = 'Total')\n",
    "portas"
   ]
  },
  {
   "cell_type": "code",
   "execution_count": null,
   "metadata": {},
   "outputs": [],
   "source": [
    "sns.set_theme(style = 'darkgrid', font='sans-serif', font_scale=1)\n",
    "plt.figure(figsize = (12, 8))\n",
    "fig15 = sns.countplot(x = 'Portas', data = df1, orient = 'v')\n",
    "plt.title(\"Portas\")"
   ]
  },
  {
   "cell_type": "code",
   "execution_count": null,
   "metadata": {},
   "outputs": [],
   "source": [
    "# Variável 14 - Rodas\n",
    "rodas = df1['Rodas'].value_counts().rename_axis('Rodas').reset_index(name = 'Total')\n",
    "rodas"
   ]
  },
  {
   "cell_type": "code",
   "execution_count": null,
   "metadata": {},
   "outputs": [],
   "source": [
    "sns.set_theme(style = 'darkgrid', font='sans-serif', font_scale=1)\n",
    "plt.figure(figsize = (12, 8))\n",
    "fig16 = sns.countplot(x = 'Rodas', data = df1, orient = 'v')\n",
    "plt.title(\"Rodas\")"
   ]
  },
  {
   "cell_type": "code",
   "execution_count": null,
   "metadata": {},
   "outputs": [],
   "source": [
    "# Variável 15 - Cor\n",
    "cor = df1['Cor'].value_counts().rename_axis('Cor').reset_index(name = 'Total')\n",
    "cor"
   ]
  },
  {
   "cell_type": "code",
   "execution_count": null,
   "metadata": {},
   "outputs": [],
   "source": [
    "sns.set_theme(style = 'darkgrid', font='sans-serif', font_scale=1)\n",
    "plt.figure(figsize = (20, 10))\n",
    "fig17 = sns.countplot(x = 'Cor', data = df1, orient = 'v', color = 'blue')\n",
    "plt.title(\"Cor\")"
   ]
  },
  {
   "cell_type": "code",
   "execution_count": null,
   "metadata": {},
   "outputs": [],
   "source": [
    "# Variável 16 - Airbag\n",
    "airbag = df1['Airbag'].value_counts().rename_axis('Airbag').reset_index(name = 'Total')\n",
    "airbag"
   ]
  },
  {
   "cell_type": "code",
   "execution_count": null,
   "metadata": {},
   "outputs": [],
   "source": [
    "sns.set_theme(style = 'darkgrid', font='sans-serif', font_scale=1)\n",
    "plt.figure(figsize = (20, 10))\n",
    "fig17 = sns.countplot(x = 'Airbag', data = df1, orient = 'v', color = 'blue')\n",
    "plt.title(\"Airbag\")"
   ]
  }
 ],
 "metadata": {
  "kernelspec": {
   "display_name": "Python 3",
   "language": "python",
   "name": "python3"
  },
  "language_info": {
   "codemirror_mode": {
    "name": "ipython",
    "version": 3
   },
   "file_extension": ".py",
   "mimetype": "text/x-python",
   "name": "python",
   "nbconvert_exporter": "python",
   "pygments_lexer": "ipython3",
   "version": "3.7.6"
  }
 },
 "nbformat": 4,
 "nbformat_minor": 4
}
