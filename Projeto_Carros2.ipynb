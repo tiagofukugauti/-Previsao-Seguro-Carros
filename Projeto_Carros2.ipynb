{
 "cells": [
  {
   "cell_type": "markdown",
   "metadata": {},
   "source": [
    "# ANÁLISE EXPLORATÓRIA, LIMPEZA E TRANFORMAÇÃO - PARTE 3"
   ]
  },
  {
   "cell_type": "markdown",
   "metadata": {},
   "source": [
    "# INSTALAÇÃO E CARREGAMENTO DOS PACOTES"
   ]
  },
  {
   "cell_type": "code",
   "execution_count": null,
   "metadata": {},
   "outputs": [],
   "source": [
    "# Importando os pacotes \n",
    "import numpy as np\n",
    "import pandas as pd\n",
    "import matplotlib as mat\n",
    "import matplotlib.pyplot as plt\n",
    "import colorsys\n",
    "import seaborn as sns\n",
    "plt.style.use('seaborn-talk')\n",
    "import warnings\n",
    "warnings.filterwarnings(\"ignore\")\n",
    "%matplotlib inline"
   ]
  },
  {
   "cell_type": "code",
   "execution_count": null,
   "metadata": {},
   "outputs": [],
   "source": [
    "# Carregando os dados\n",
    "df = pd.read_csv('dataset.csv', sep = ',', encoding = 'utf-8')"
   ]
  },
  {
   "cell_type": "code",
   "execution_count": null,
   "metadata": {},
   "outputs": [],
   "source": [
    "df.dtypes"
   ]
  },
  {
   "cell_type": "code",
   "execution_count": null,
   "metadata": {},
   "outputs": [],
   "source": [
    "df.shape"
   ]
  },
  {
   "cell_type": "code",
   "execution_count": null,
   "metadata": {},
   "outputs": [],
   "source": [
    "# Transformando as variáveis Ano, Cilindros, Volume_Motor e Airbag para object\n",
    "df['Ano'] = df['Ano'].astype(str)\n",
    "df['Cilindros'] = df['Cilindros'].astype(str)\n",
    "df['Airbag'] = df['Airbag'].astype(str)\n",
    "df['Portas'] = df['Portas'].astype(str)"
   ]
  },
  {
   "cell_type": "code",
   "execution_count": null,
   "metadata": {},
   "outputs": [],
   "source": [
    "# Criando uma cópia do dataframne\n",
    "df1 = df.copy()"
   ]
  },
  {
   "cell_type": "code",
   "execution_count": null,
   "metadata": {},
   "outputs": [],
   "source": [
    "# Resumo\n",
    "print(\"Linhas: \", df1.shape[0])\n",
    "print(\"Colunas: \", df1.shape[1])\n",
    "print(\"\\nVariáveis: \\n\", df1.columns.tolist())\n",
    "print(\"\\nValores Ausentes: \\n\" , df1.isnull().sum())\n",
    "print(\"\\nValores Únicos: \\n\", df1.nunique())"
   ]
  },
  {
   "cell_type": "code",
   "execution_count": null,
   "metadata": {},
   "outputs": [],
   "source": [
    "# Colunas numéricas (quantitativas)\n",
    "colunas_numericas = ['Preco_Seguro', 'Volume_Motor','Quilometragem']"
   ]
  },
  {
   "cell_type": "code",
   "execution_count": null,
   "metadata": {},
   "outputs": [],
   "source": [
    "# Colunas categóricas\n",
    "colunas_categoricas = ['Fabricante', 'Modelo', 'Ano', 'Categoria', 'Interior_Couro', 'Tipo_Combustivel', 'Cilindros', 'Tipo_Cambio', 'Tracao_Rodas', 'Portas', 'Rodas', 'Cor', 'Airbag']"
   ]
  },
  {
   "cell_type": "code",
   "execution_count": null,
   "metadata": {},
   "outputs": [],
   "source": [
    "# Verifica se o total de variáveis está coberto nos objetos anteriores\n",
    "len(colunas_numericas) + len(colunas_categoricas) == 16"
   ]
  },
  {
   "cell_type": "code",
   "execution_count": null,
   "metadata": {},
   "outputs": [],
   "source": [
    "# Dataframes com os tipos diferentes de variáveis\n",
    "df_num = df1[colunas_numericas]\n",
    "df_cat = df1[colunas_categoricas]"
   ]
  },
  {
   "cell_type": "code",
   "execution_count": null,
   "metadata": {},
   "outputs": [],
   "source": [
    "# Sumário estatístico das variáveis numéricas\n",
    "sumario_num = pd.DataFrame(index = df_num.columns)\n",
    "sumario_num['Tipo de Dado'] = df_num.dtypes.values\n",
    "sumario_num['Registros Não Nulos'] = df_num.count().values\n",
    "sumario_num['Registros Não Zero'] = df_num.astype(bool).sum(axis = 0)\n",
    "sumario_num['% Populado'] = round(sumario_num['Registros Não Nulos'] / df_num.shape[0]*100,2)\n",
    "sumario_num['Valores Únicos'] = df_num.nunique().values\n",
    "sumario_num['Mean'] = round(df_num.mean(),2)\n",
    "sumario_num['Std'] = round(df_num.std(),2)\n",
    "sumario_num['Min'] = round(df_num.min(),2)\n",
    "sumario_num['Max'] = round(df_num.max(),2)\n",
    "sumario_num"
   ]
  },
  {
   "cell_type": "code",
   "execution_count": null,
   "metadata": {},
   "outputs": [],
   "source": [
    "# Sumário estatístico das variáveis categóricas\n",
    "sumario_cat = pd.DataFrame(index = df_cat.columns)\n",
    "sumario_cat['Tipo de Dado'] = df_cat.dtypes.values\n",
    "sumario_cat['Registros Não Nulos'] = df_cat.count().values\n",
    "sumario_cat['% Populado'] = round(sumario_cat['Registros Não Nulos'] / df_cat.shape[0]*100,2)\n",
    "sumario_cat['# Valores Únicos'] = df_cat.nunique().values\n",
    "\n",
    "# Adiciona mais uma coluna com valores mais comuns\n",
    "temp = []\n",
    "for coluna in colunas_categoricas:\n",
    "    temp.append(df_cat[coluna].value_counts().idxmax())\n",
    "sumario_cat['Valores Mais Comuns'] = temp\n",
    "sumario_cat"
   ]
  },
  {
   "cell_type": "code",
   "execution_count": null,
   "metadata": {},
   "outputs": [],
   "source": [
    "# Variável 1 - Preco_Seguro\n",
    "df1['Preco_Seguro'].describe().round(2)"
   ]
  },
  {
   "cell_type": "code",
   "execution_count": null,
   "metadata": {},
   "outputs": [],
   "source": [
    "# Variável 2 - Fabricante\n",
    "fabricante = df1['Fabricante'].value_counts().rename_axis('Fabricante').reset_index(name = 'Total')\n",
    "fabricante"
   ]
  },
  {
   "cell_type": "code",
   "execution_count": null,
   "metadata": {},
   "outputs": [],
   "source": [
    "# Variável 3 - Modelo\n",
    "modelo = df1['Modelo'].value_counts().rename_axis('Modelo').reset_index(name = 'Total')\n",
    "modelo"
   ]
  },
  {
   "cell_type": "code",
   "execution_count": null,
   "metadata": {},
   "outputs": [],
   "source": [
    "# Variável 4 - Ano\n",
    "ano = df['Ano'].value_counts().rename_axis('Ano').reset_index(name = 'Total')\n",
    "ano"
   ]
  },
  {
   "cell_type": "code",
   "execution_count": null,
   "metadata": {},
   "outputs": [],
   "source": [
    "# Variável 5 - Categoria\n",
    "categoria = df1['Categoria'].value_counts().rename_axis('Categoria').reset_index(name = 'Total')\n",
    "categoria"
   ]
  },
  {
   "cell_type": "code",
   "execution_count": null,
   "metadata": {},
   "outputs": [],
   "source": [
    "# Variável 6 - Interior_Couro\n",
    "interior_couro = df1['Interior_Couro'].value_counts().rename_axis('Interior_Couro').reset_index(name = 'Total')\n",
    "interior_couro"
   ]
  },
  {
   "cell_type": "code",
   "execution_count": null,
   "metadata": {},
   "outputs": [],
   "source": [
    "# Variável 7 - Tipo_Combustivel\n",
    "tipo_combustivel = df1['Tipo_Combustivel'].value_counts().rename_axis('Tipo_Combustivel').reset_index(name = 'Total')\n",
    "tipo_combustivel"
   ]
  },
  {
   "cell_type": "code",
   "execution_count": null,
   "metadata": {},
   "outputs": [],
   "source": [
    "# Variável 8 - Volume_Motor\n",
    "df1['Volume_Motor'].describe().round(2)"
   ]
  },
  {
   "cell_type": "code",
   "execution_count": null,
   "metadata": {},
   "outputs": [],
   "source": [
    "# Variável 9 - Quilometragem\n",
    "df1['Quilometragem'].describe().round(2)"
   ]
  },
  {
   "cell_type": "code",
   "execution_count": null,
   "metadata": {},
   "outputs": [],
   "source": [
    "# Variável 10 - Cilindros\n",
    "cilindros = df1['Cilindros'].value_counts().rename_axis('Cilindros').reset_index(name = 'Total')\n",
    "cilindros"
   ]
  },
  {
   "cell_type": "code",
   "execution_count": null,
   "metadata": {},
   "outputs": [],
   "source": [
    "# Variável 11 - Tipo_Cambio\n",
    "tipo_cambio = df1['Tipo_Cambio'].value_counts().rename_axis('Tipo_Cambio').reset_index(name = 'Total')\n",
    "tipo_cambio"
   ]
  },
  {
   "cell_type": "code",
   "execution_count": null,
   "metadata": {},
   "outputs": [],
   "source": [
    "# Variável 12 - Tracao_Rodas\n",
    "tracao_rodas = df1['Tracao_Rodas'].value_counts().rename_axis('Tracao_Rodas').reset_index(name = 'Total')\n",
    "tracao_rodas"
   ]
  },
  {
   "cell_type": "code",
   "execution_count": null,
   "metadata": {},
   "outputs": [],
   "source": [
    "# Variável 13 - Portas\n",
    "portas = df1['Portas'].value_counts().rename_axis('Portas').reset_index(name = 'Total')\n",
    "portas"
   ]
  },
  {
   "cell_type": "code",
   "execution_count": null,
   "metadata": {},
   "outputs": [],
   "source": [
    "# Variável 14 - Rodas\n",
    "rodas = df1['Rodas'].value_counts().rename_axis('Rodas').reset_index(name = 'Total')\n",
    "rodas"
   ]
  },
  {
   "cell_type": "code",
   "execution_count": null,
   "metadata": {},
   "outputs": [],
   "source": [
    "# Variável 15 - Cor\n",
    "cor = df1['Cor'].value_counts().rename_axis('Cor').reset_index(name = 'Total')\n",
    "cor"
   ]
  },
  {
   "cell_type": "code",
   "execution_count": null,
   "metadata": {},
   "outputs": [],
   "source": [
    "# Variável 16 - Airbag\n",
    "airbag = df1['Airbag'].value_counts().rename_axis('Airbag').reset_index(name = 'Total')\n",
    "airbag"
   ]
  },
  {
   "cell_type": "code",
   "execution_count": null,
   "metadata": {},
   "outputs": [],
   "source": [
    "df2 = df1.copy()"
   ]
  },
  {
   "cell_type": "code",
   "execution_count": null,
   "metadata": {},
   "outputs": [],
   "source": [
    "df2.head(5)"
   ]
  },
  {
   "cell_type": "code",
   "execution_count": null,
   "metadata": {},
   "outputs": [],
   "source": [
    "# Criando o encoder para variáveis categóricas\n",
    "from sklearn.preprocessing import LabelEncoder\n",
    "lb = LabelEncoder()\n",
    "\n",
    "# Aplica o encoder nas variáveis que estão com string\n",
    "df2['Fabricante'] = lb.fit_transform(df2['Fabricante'])\n",
    "df2['Modelo'] = lb.fit_transform(df2['Modelo'])\n",
    "df2['Categoria'] = lb.fit_transform(df2['Categoria'])\n",
    "df2['Interior_Couro'] = lb.fit_transform(df2['Interior_Couro'])\n",
    "df2['Tipo_Combustivel'] = lb.fit_transform(df2['Tipo_Combustivel'])\n",
    "df2['Cilindros'] = lb.fit_transform(df2['Cilindros'])\n",
    "df2['Tipo_Cambio'] = lb.fit_transform(df2['Tipo_Cambio'])\n",
    "df2['Tracao_Rodas'] = lb.fit_transform(df2['Tracao_Rodas'])\n",
    "df2['Portas'] = lb.fit_transform(df2['Portas'])\n",
    "df2['Rodas'] = lb.fit_transform(df2['Rodas'])\n",
    "df2['Cor'] = lb.fit_transform(df2['Cor'])\n",
    "df2['Airbag'] = lb.fit_transform(df2['Airbag'])\n",
    "df2['Ano'] = lb.fit_transform(df2['Ano'])\n",
    "\n",
    "# Remove valores missing eventualmente gerados\n",
    "df2.dropna(inplace = True)"
   ]
  },
  {
   "cell_type": "code",
   "execution_count": null,
   "metadata": {},
   "outputs": [],
   "source": [
    "df2.head(5)"
   ]
  },
  {
   "cell_type": "code",
   "execution_count": null,
   "metadata": {},
   "outputs": [],
   "source": [
    "# Matriz de Correlação \n",
    "corr = df2.corr().stack().reset_index(name=\"correlation\")\n",
    "\n",
    "sns.set_theme(style = 'whitegrid', font='sans-serif', font_scale=1)\n",
    "plt.figure(figsize = (10, 10))\n",
    "fig1 = sns.relplot(data=corr, x=\"level_0\", y=\"level_1\", hue=\"correlation\", size=\"correlation\",\n",
    "                    palette=\"vlag\", hue_norm=(-1, 1), edgecolor=\".8\", height=10, sizes=(150, 300))\n",
    "plt.title(\"Matriz de Correlação\")\n"
   ]
  },
  {
   "cell_type": "code",
   "execution_count": null,
   "metadata": {},
   "outputs": [],
   "source": [
    "# Correlação\n",
    "df2.corr()[\"Preco_Seguro\"]"
   ]
  },
  {
   "cell_type": "markdown",
   "metadata": {},
   "source": [
    "# SELEÇÃO DE VARIÁVEIS"
   ]
  },
  {
   "cell_type": "code",
   "execution_count": null,
   "metadata": {},
   "outputs": [],
   "source": [
    "# Eliminação Recursiva de Variáveis\n",
    "\n",
    "from sklearn.feature_selection import RFE\n",
    "from sklearn.linear_model import LogisticRegression\n",
    "\n",
    "# Separando o array em componentes de input e output\n",
    "dados = df2.values\n",
    "x = dados[:,1:16]\n",
    "y = dados[:,0]\n",
    "\n",
    "# Criação do modelo\n",
    "eliminacao_recursiva = LogisticRegression()\n",
    "\n",
    "# RFE\n",
    "rfe = RFE(eliminacao_recursiva, 3)\n",
    "fit = rfe.fit(x, y)\n",
    "\n",
    "# Print dos resultados\n",
    "print(\"Variáveis Preditoras:\", df2.columns[1:16])\n",
    "print(\"Variáveis Selecionadas: %s\" % fit.support_)\n",
    "print(\"Ranking dos Atributos: %s\" % fit.ranking_)\n",
    "print(\"Número de Melhores Atributos: %d\" % fit.n_features_)"
   ]
  },
  {
   "cell_type": "code",
   "execution_count": null,
   "metadata": {},
   "outputs": [],
   "source": [
    "# Criando uma cópia do dataframne e removendo as colunas\n",
    "df3 = df2.copy()\n",
    "df3.drop(columns=[\"Fabricante\", 'Tipo_Combustivel', 'Tipo_Cambio', 'Tracao_Rodas', 'Portas', 'Rodas', \n",
    "                  'Interior_Couro'],inplace=True)"
   ]
  },
  {
   "cell_type": "code",
   "execution_count": null,
   "metadata": {},
   "outputs": [],
   "source": [
    "df3.head(5)"
   ]
  },
  {
   "cell_type": "markdown",
   "metadata": {},
   "source": [
    "# PREPARAÇÃO DOS DADOS (PRÉ-PROCESSAMENTO)"
   ]
  },
  {
   "cell_type": "code",
   "execution_count": null,
   "metadata": {},
   "outputs": [],
   "source": [
    "# PADRONIZAÇÃO - Padronizando os dados (0 para a média, 1 para o desvio padrão)\n",
    "\n",
    "from sklearn.preprocessing import StandardScaler\n",
    "\n",
    "# Separando o array em componentes de input (X) e output (Y)\n",
    "dados = df3.values\n",
    "x = dados[:,1:9]\n",
    "y = dados[:,0]\n",
    "\n",
    "# Gerando o novo padrão\n",
    "scaler = StandardScaler().fit(x)\n",
    "dados_padronizados = scaler.transform(x)\n",
    "\n",
    "# Sumarizando os dados transformados\n",
    "print(\"Dados Originais: \\n\\n\", df3.values)\n",
    "print(\"\\nDados Padronizados: \\n\\n\", dados_padronizados[0:5,:])"
   ]
  },
  {
   "cell_type": "code",
   "execution_count": null,
   "metadata": {},
   "outputs": [],
   "source": [
    "# NORMALIZAÇÃO - Transformando os dados para a mesma escala (entre 0 e 1)\n",
    "from sklearn.preprocessing import MinMaxScaler\n",
    "\n",
    "# Separando o array em componentes de input (X) e output (Y)\n",
    "dados_norm = df3.values\n",
    "x_norm = dados_norm[:,1:9]\n",
    "y = dados[:,0]\n",
    "\n",
    "# Gerando a nova escala (normalizando os dados)\n",
    "scaler = MinMaxScaler(feature_range = (0, 1))\n",
    "dados_normalizados = scaler.fit_transform(x_norm)\n",
    "\n",
    "# Sumarizando os dados transformados\n",
    "print(\"Dados Originais: \\n\\n\", df3.values)\n",
    "print(\"\\nDados Normalizados: \\n\\n\", dados_normalizados[0:5,:])"
   ]
  },
  {
   "cell_type": "markdown",
   "metadata": {},
   "source": [
    "# MODELAGEM PREDITIVA"
   ]
  },
  {
   "cell_type": "markdown",
   "metadata": {},
   "source": [
    "# RANDOM FOREST"
   ]
  },
  {
   "cell_type": "code",
   "execution_count": null,
   "metadata": {},
   "outputs": [],
   "source": [
    "# Separando os dados PADRONIZADOS em conjuntos de treino e teste\n",
    "from sklearn.model_selection import train_test_split\n",
    "\n",
    "x_treino, x_teste, y_treino, y_teste = train_test_split(dados_padronizados, y, test_size = 0.30)\n",
    "print(x_treino.shape, y_treino.shape, x_teste.shape, y_teste.shape)"
   ]
  },
  {
   "cell_type": "code",
   "execution_count": null,
   "metadata": {},
   "outputs": [],
   "source": [
    "# Criando o objeto de RANDOM FOREST - Utilização dos PADRONIZADOS\n",
    "from sklearn.ensemble import RandomForestRegressor\n",
    "\n",
    "modelo_v1 = RandomForestRegressor()\n",
    "\n",
    "# Treinando o modelo com dados de treino e checando o score\n",
    "modelo_v1.fit(x_treino, y_treino)\n",
    "modelo_v1.score(x_treino, y_treino)\n",
    "\n",
    "# Previsões\n",
    "valores_previstos_v1 = modelo_v1.predict(x_teste)"
   ]
  },
  {
   "cell_type": "code",
   "execution_count": null,
   "metadata": {},
   "outputs": [],
   "source": [
    "# Score do modelo_v1 nos dados de teste\n",
    "v1_acuracia = modelo_v1.score(x_teste, y_teste)\n",
    "print(\"Acurácia nos Dados de Teste: %.2f%%\" % (v1_acuracia * 100.0))"
   ]
  },
  {
   "cell_type": "code",
   "execution_count": null,
   "metadata": {},
   "outputs": [],
   "source": [
    "# Avaliando o modelo utilizando o CROSS VALIDATION\n",
    "from sklearn.model_selection import KFold\n",
    "from sklearn.model_selection import cross_val_score\n",
    "\n",
    "# Definindo os valores para os folds\n",
    "num_folds = 20\n",
    "\n",
    "# Separando os dados em folds\n",
    "kfold = KFold(num_folds, True)\n",
    "\n",
    "# Criando o modelo\n",
    "modelo_CV1 = modelo_v1\n",
    "resultado_v1 = cross_val_score(modelo_CV1, x_treino, y_treino, cv = kfold)\n",
    "\n",
    "# Usamos a média e o desvio padrão\n",
    "\n",
    "print(\"Acurácia Final: %.2f%%\" % (resultado_v1.mean() * 100.0))"
   ]
  },
  {
   "cell_type": "code",
   "execution_count": null,
   "metadata": {},
   "outputs": [],
   "source": [
    "# Resultados para o dataframe de comparação dos modelos\n",
    "acuracia_v1 = (v1_acuracia * 100.0).round(3)\n",
    "#acuracia_final = (resultado_v1.mean() * 100.0).round(3)"
   ]
  },
  {
   "cell_type": "code",
   "execution_count": null,
   "metadata": {},
   "outputs": [],
   "source": [
    "# Dicionário de métricas e metadados do modelo_v1\n",
    "\n",
    "RFR_dict_v1 = {'Modelo':'Random Forest Regressor',\n",
    "               'Versão':'1',\n",
    "               'Dados':'Padronizados',\n",
    "              'Acuracia': acuracia_v1,\n",
    "              'CV_acuracia': 'xxxxx'}"
   ]
  },
  {
   "cell_type": "code",
   "execution_count": null,
   "metadata": {},
   "outputs": [],
   "source": [
    "# Separando os dados NORMALIZADOS em conjuntos de treino e teste\n",
    "\n",
    "x_treino1, x_teste1, y_treino1, y_teste1 = train_test_split(dados_normalizados, y, test_size = 0.30)\n",
    "print(x_treino1.shape, y_treino1.shape, x_teste1.shape, y_teste1.shape)"
   ]
  },
  {
   "cell_type": "code",
   "execution_count": null,
   "metadata": {},
   "outputs": [],
   "source": [
    "# Criando o objeto de RANDOM FOREST - Utilização dos dados Normalizados\n",
    "from sklearn.ensemble import RandomForestRegressor\n",
    "\n",
    "modelo_v2 = RandomForestRegressor()\n",
    "\n",
    "# Treinando o modelo com dados de treino e checando o score\n",
    "modelo_v2.fit(x_treino1, y_treino1)\n",
    "modelo_v2.score(x_treino1, y_treino1)\n",
    "\n",
    "# Previsões\n",
    "valores_previstos_v2 = modelo_v2.predict(x_teste1)"
   ]
  },
  {
   "cell_type": "code",
   "execution_count": null,
   "metadata": {},
   "outputs": [],
   "source": [
    "# Score do modelo_v1 nos dados de teste\n",
    "v2_acuracia = modelo_v2.score(x_teste1, y_teste1)\n",
    "print(\"Acurácia nos Dados de Teste: %.2f%%\" % (v2_acuracia * 100.0))"
   ]
  },
  {
   "cell_type": "code",
   "execution_count": null,
   "metadata": {},
   "outputs": [],
   "source": [
    "# Avaliando o modelo utilizando o CROSS VALIDATION\n",
    "\n",
    "# Definindo os valores para os folds\n",
    "num_folds = 20\n",
    "\n",
    "# Separando os dados em folds\n",
    "kfold = KFold(num_folds, True)\n",
    "\n",
    "# Criando o modelo\n",
    "modelo_CV2 = modelo_v2\n",
    "resultado_v2 = cross_val_score(modelo_CV2, x_treino1, y_treino1, cv = kfold)\n",
    "\n",
    "# Usamos a média e o desvio padrão\n",
    "print(\"Acurácia Final: %.2f%%\" % (resultado_v2.mean() * 100.0))"
   ]
  },
  {
   "cell_type": "code",
   "execution_count": null,
   "metadata": {},
   "outputs": [],
   "source": [
    "# Resultados para o dataframe de comparação dos modelos\n",
    "acuracia_v2 = (v2_acuracia * 100.0).round(3)\n",
    "#acuracia_final2 = (resultado_v2.mean() * 100.0).round(3)"
   ]
  },
  {
   "cell_type": "code",
   "execution_count": null,
   "metadata": {},
   "outputs": [],
   "source": [
    "# Dicionário de métricas e metadados do modelo_v2\n",
    "\n",
    "RFR_dict_v2 = {'Modelo':'Random Forest Regressor',\n",
    "               'Versão':'2',\n",
    "               'Dados':'Normalizados',\n",
    "              'Acuracia': acuracia_v2,\n",
    "              'CV_acuracia': 'xxxxx'}"
   ]
  },
  {
   "cell_type": "code",
   "execution_count": null,
   "metadata": {},
   "outputs": [],
   "source": [
    "# NORMALIZAÇÃO E PADRONIZAÇÃO\n",
    "\n",
    "# Gerando o novo padrão\n",
    "scaler = StandardScaler().fit(dados_normalizados)\n",
    "dados_norm_padr = scaler.transform(dados_normalizados)\n",
    "\n",
    "# Sumarizando os dados transformados\n",
    "print(\"Dados Originais: \\n\\n\", df3.values)\n",
    "print(\"\\nDados Padronizados: \\n\\n\", dados_norm_padr[0:5,:])"
   ]
  },
  {
   "cell_type": "code",
   "execution_count": null,
   "metadata": {},
   "outputs": [],
   "source": [
    "# Separando os dados NORMALIZADOS E PADRONIZADOS em conjuntos de treino e teste\n",
    "\n",
    "x_treino2, x_teste2, y_treino2, y_teste2 = train_test_split(dados_norm_padr, y, test_size = 0.30)\n",
    "print(x_treino1.shape, y_treino1.shape, x_teste1.shape, y_teste1.shape)"
   ]
  },
  {
   "cell_type": "code",
   "execution_count": null,
   "metadata": {},
   "outputs": [],
   "source": [
    "# Criando o objeto de RANDOM FOREST - Utilização dos PADRONIZADOS E NORMALIZADOS\n",
    "from sklearn.ensemble import RandomForestRegressor\n",
    "\n",
    "modelo_v3 = RandomForestRegressor()\n",
    "\n",
    "# Treinando o modelo com dados de treino e checando o score\n",
    "modelo_v3.fit(x_treino2, y_treino2)\n",
    "modelo_v3.score(x_treino2, y_treino2)\n",
    "\n",
    "# Previsões\n",
    "valores_previstos_v3 = modelo_v3.predict(x_teste2)"
   ]
  },
  {
   "cell_type": "code",
   "execution_count": null,
   "metadata": {},
   "outputs": [],
   "source": [
    "# Score do modelo_v1 nos dados de teste\n",
    "v3_acuracia = modelo_v3.score(x_teste2, y_teste2)\n",
    "print(\"Acurácia nos Dados de Teste: %.2f%%\" % (v3_acuracia * 100.0))"
   ]
  },
  {
   "cell_type": "code",
   "execution_count": null,
   "metadata": {},
   "outputs": [],
   "source": [
    "# Avaliando o modelo utilizando o CROSS VALIDATION\n",
    "\n",
    "# Definindo os valores para os folds\n",
    "num_folds = 20\n",
    "\n",
    "# Separando os dados em folds\n",
    "kfold = KFold(num_folds, True)\n",
    "\n",
    "# Criando o modelo\n",
    "modelo_CV3 = modelo_v3\n",
    "resultado_v3 = cross_val_score(modelo_CV3, x_treino2, y_treino2, cv = kfold)\n",
    "\n",
    "# Usamos a média e o desvio padrão\n",
    "print(\"Acurácia Final: %.2f%%\" % (resultado_v3.mean() * 100.0))"
   ]
  },
  {
   "cell_type": "code",
   "execution_count": null,
   "metadata": {},
   "outputs": [],
   "source": [
    "# Resultados para o dataframe de comparação dos modelos\n",
    "acuracia_v3 = (v3_acuracia * 100.0).round(3)\n",
    "#acuracia_final3 = (resultado_v3.mean() * 100.0).round(3)"
   ]
  },
  {
   "cell_type": "code",
   "execution_count": null,
   "metadata": {},
   "outputs": [],
   "source": [
    "# Dicionário de métricas e metadados do modelo_v3\n",
    "\n",
    "RFR_dict_v3 = {'Modelo':'Random Forest Regressor',\n",
    "               'Versão':'3',\n",
    "               'Dados':'Normalizados',\n",
    "              'Acuracia': acuracia_v3,\n",
    "              'CV_acuracia': 'xxxxx'}"
   ]
  },
  {
   "cell_type": "code",
   "execution_count": null,
   "metadata": {},
   "outputs": [],
   "source": [
    "# Criando o objeto de SVM - Utilização dos PADRONIZADOS\n",
    "from sklearn.metrics import precision_score, recall_score, f1_score, accuracy_score, roc_auc_score\n",
    "from sklearn import svm\n",
    "import time\n",
    "\n",
    "# Cria o modelo\n",
    "modelo_v4 = svm.SVC(kernel = 'linear')\n",
    "\n",
    "# Treinamento\n",
    "start = time.time()\n",
    "modelo_v4.fit(x_treino, y_treino)\n",
    "end = time.time()\n",
    "print('Tempo de Treinamento do Modelo:', end - start)"
   ]
  },
  {
   "cell_type": "code",
   "execution_count": null,
   "metadata": {},
   "outputs": [],
   "source": [
    "# Previsões\n",
    "valoresprevistos_v4 = modelo_v4.predict(x_teste)"
   ]
  },
  {
   "cell_type": "code",
   "execution_count": null,
   "metadata": {},
   "outputs": [],
   "source": [
    "# Score do modelo_v4 nos dados de teste\n",
    "#v4_acuracia = modelo_v4.score(x_teste, y_teste)\n",
    "#print(\"Acurácia nos Dados de Teste: %.2f%%\" % (v4_acuracia * 100.0))"
   ]
  },
  {
   "cell_type": "code",
   "execution_count": null,
   "metadata": {},
   "outputs": [],
   "source": [
    "v4_acuracia = accuracy_score(valoresprevistos_v4, y_teste)\n",
    "v4_acuracia"
   ]
  },
  {
   "cell_type": "code",
   "execution_count": null,
   "metadata": {},
   "outputs": [],
   "source": [
    "# Resultados para o dataframe de comparação dos modelos\n",
    "acuracia_v4 = (v4_acuracia * 100.0).round(3)\n",
    "# acuracia_final4 = (resultado_v4.mean() * 100.0).round(3)"
   ]
  },
  {
   "cell_type": "code",
   "execution_count": null,
   "metadata": {},
   "outputs": [],
   "source": [
    "# Dicionário de métricas e metadados do modelo_v4\n",
    "\n",
    "SVM_dict_v4 = {'Modelo':'Support Vector Machine',\n",
    "               'Versão':'4',\n",
    "               'Dados':'Padronizados',\n",
    "              'Acuracia': acuracia_v4,\n",
    "              'CV_acuracia': 'xxxxx'}"
   ]
  },
  {
   "cell_type": "code",
   "execution_count": null,
   "metadata": {},
   "outputs": [],
   "source": [
    "# Criando o objeto de SVM - Utilização dos NORMALIZADOS\n",
    "\n",
    "# Cria o modelo\n",
    "modelo_v5 = svm.SVC(kernel = 'linear')\n",
    "\n",
    "# Treinamento\n",
    "start = time.time()\n",
    "modelo_v5.fit(x_treino2, y_treino2)\n",
    "end = time.time()\n",
    "print('Tempo de Treinamento do Modelo:', end - start)"
   ]
  },
  {
   "cell_type": "code",
   "execution_count": null,
   "metadata": {},
   "outputs": [],
   "source": [
    "# Previsões\n",
    "valoresprevistos_v5 = modelo_v5.predict(x_teste2)"
   ]
  },
  {
   "cell_type": "code",
   "execution_count": null,
   "metadata": {},
   "outputs": [],
   "source": [
    "# Score do modelo_v5 nos dados de teste\n",
    "#v5_acuracia = modelo_v5.score(x_teste2, y_teste2)\n",
    "#print(\"Acurácia nos Dados de Teste: %.2f%%\" % (v5_acuracia * 100.0))"
   ]
  },
  {
   "cell_type": "code",
   "execution_count": null,
   "metadata": {},
   "outputs": [],
   "source": [
    "v5_acuracia = accuracy_score(valoresprevistos_v5, y_teste2)\n",
    "v5_acuracia"
   ]
  },
  {
   "cell_type": "code",
   "execution_count": null,
   "metadata": {},
   "outputs": [],
   "source": [
    "# Resultados para o dataframe de comparação dos modelos\n",
    "acuracia_v5 = (v5_acuracia * 100.0).round(3)\n",
    "#acuracia_final5 = (resultado_v5.mean() * 100.0).round(3)"
   ]
  },
  {
   "cell_type": "code",
   "execution_count": null,
   "metadata": {},
   "outputs": [],
   "source": [
    "# Dicionário de métricas e metadados do modelo_v4\n",
    "\n",
    "SVM_dict_v5 = {'Modelo':'Support Vector Machine',\n",
    "               'Versão':'5',\n",
    "               'Dados':'Normalizados',\n",
    "              'Acuracia': acuracia_v5,\n",
    "              'CV_acuracia': 'xxxxx'}"
   ]
  },
  {
   "cell_type": "markdown",
   "metadata": {},
   "source": [
    "# COMPARAÇÃO ENTRE OS MODELOS"
   ]
  },
  {
   "cell_type": "code",
   "execution_count": null,
   "metadata": {},
   "outputs": [],
   "source": [
    "# Concatena todos os dicionários em um dataframe\n",
    "resumo = pd.DataFrame({'Modelo_v1':pd.Series(RFR_dict_v1),\n",
    "                       'Modelo_v2':pd.Series(RFR_dict_v2),\n",
    "                       'Modelo_v3':pd.Series(RFR_dict_v3),\n",
    "                       'Modelo_v4':pd.Series(SVM_dict_v4),\n",
    "                       'Modelo_v5':pd.Series(SVM_dict_v5)})\n",
    "resumo"
   ]
  },
  {
   "cell_type": "markdown",
   "metadata": {},
   "source": [
    "# OTIMIZAÇÃO DO MODELO SELECIONADO"
   ]
  },
  {
   "cell_type": "markdown",
   "metadata": {},
   "source": [
    "# ENGENHARIA DE ATRIBUTOS"
   ]
  },
  {
   "cell_type": "code",
   "execution_count": null,
   "metadata": {},
   "outputs": [],
   "source": [
    "# Construindo a categoria Outros na Variável Modelo"
   ]
  },
  {
   "cell_type": "code",
   "execution_count": null,
   "metadata": {},
   "outputs": [],
   "source": [
    "modelo = df1['Modelo'].value_counts().rename_axis('Modelo').reset_index(name = 'Total')\n",
    "modelo.tail(900)"
   ]
  },
  {
   "cell_type": "markdown",
   "metadata": {},
   "source": [
    "# AJUSTES DE HIPERPARÂMETROS"
   ]
  },
  {
   "cell_type": "code",
   "execution_count": null,
   "metadata": {},
   "outputs": [],
   "source": [
    "# RANDOM SEARCH PARAMETER TUNING\n",
    "# Este método gera amostras dos parâmetros dos algoritmos a partir de uma distribuição randômica uniforme para um número fixo\n",
    "# de iterações. Um modelo é construído e testado para cada combinação de parâmetros.\n",
    "\n",
    "from sklearn.model_selection import RandomizedSearchCV\n",
    "modelo_hp = RandomForestRegressor()\n",
    "x_treino_final = x_treino2\n",
    "y_treino_final = y_treino2\n",
    "\n",
    "# Definindo os valores que serão testados\n",
    "iteracoes = 50\n",
    "\n",
    "# Definindo os valores que serão testados\n",
    "valores_grid = {'n_estimators': [100, 150, 200, 250, 300], 'min_samples_leaf': [1, 2, 3], 'criterion': ['mse', 'mae'], 'max_features': ['auto', 'sqrt', 'log2']}\n",
    "\n",
    "# Criando o grid\n",
    "rsearch = RandomizedSearchCV(estimator = modelo_hp, \n",
    "                             param_distributions = valores_grid, \n",
    "                             n_iter = iteracoes)\n",
    "rsearch.fit(x_treino_final, y_treino_final)\n",
    "\n",
    "# Print dos resultados\n",
    "print(\"Acurácia: %.2f\" % (rsearch.best_score_ * 100))\n",
    "print(\"Melhores Parâmetros do Modelo:\\n\", rsearch.best_estimator_)"
   ]
  },
  {
   "cell_type": "markdown",
   "metadata": {},
   "source": [
    "# PREVISÃO COM O MODELO FINAL"
   ]
  },
  {
   "cell_type": "code",
   "execution_count": null,
   "metadata": {},
   "outputs": [],
   "source": [
    "# Produz a matriz com os novos dados de entrada para a previsão\n",
    "Modelo = 565\n",
    "Ano = 42\n",
    "Categoria = 9\n",
    "Volume_Motor = 55\n",
    "Quilometragem = 107800\n",
    "Cilindros = 9\n",
    "Cor = 5\n",
    "Airbag = 4\n",
    "\n",
    "\n",
    "# Lista com os valores das variáveis\n",
    "dados_novo_cliente = [Modelo, Ano, Categoria, Volume_Motor, Quilometragem, Cilindros, Cor, Airbag]\n",
    "\n",
    "# Reshape\n",
    "novo_cliente = np.array(dados_novo_cliente).reshape(1, -1)\n",
    "\n",
    "# Previsão\n",
    "print(\"Preço previsto para o Convênio: R$ %.2f\" % (modelo_v3.predict(novo_cliente)))"
   ]
  },
  {
   "cell_type": "code",
   "execution_count": null,
   "metadata": {},
   "outputs": [],
   "source": [
    "df3.head(5)"
   ]
  },
  {
   "cell_type": "markdown",
   "metadata": {},
   "source": [
    "# SALVANDO O MELHOR MODELO"
   ]
  },
  {
   "cell_type": "code",
   "execution_count": null,
   "metadata": {},
   "outputs": [],
   "source": [
    "import pickle\n",
    "\n",
    "# Salvando o modelo\n",
    "arquivo = 'MODELO_FINAL.sav'\n",
    "pickle.dump(modelo_v3, open(arquivo, 'wb'))\n",
    "print(\"Modelo salvo!\")"
   ]
  },
  {
   "cell_type": "code",
   "execution_count": null,
   "metadata": {},
   "outputs": [],
   "source": [
    "# Carregando o arquivo\n",
    "modelo = pickle.load(open(arquivo, 'rb'))\n",
    "modelo_prod = modelo_v3.score(x_teste2, y_teste2)\n",
    "print(\"Modelo carregado!\")\n",
    "\n",
    "# Print do resultado\n",
    "print(\"Acurácia nos Dados de Teste: %.2f%%\" % (modelo_prod * 100.0))"
   ]
  }
 ],
 "metadata": {
  "kernelspec": {
   "display_name": "Python 3",
   "language": "python",
   "name": "python3"
  },
  "language_info": {
   "codemirror_mode": {
    "name": "ipython",
    "version": 3
   },
   "file_extension": ".py",
   "mimetype": "text/x-python",
   "name": "python",
   "nbconvert_exporter": "python",
   "pygments_lexer": "ipython3",
   "version": "3.7.6"
  }
 },
 "nbformat": 4,
 "nbformat_minor": 4
}
